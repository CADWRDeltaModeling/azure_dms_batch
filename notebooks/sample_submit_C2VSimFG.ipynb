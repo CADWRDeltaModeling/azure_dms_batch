{
 "cells": [
  {
   "cell_type": "code",
   "execution_count": null,
   "metadata": {},
   "outputs": [],
   "source": [
    "%load_ext autoreload\n",
    "%autoreload 2"
   ]
  },
  {
   "cell_type": "markdown",
   "metadata": {},
   "source": [
    "## Imports"
   ]
  },
  {
   "cell_type": "code",
   "execution_count": null,
   "metadata": {},
   "outputs": [],
   "source": [
    "from dmsbatch import create_batch_client, create_blob_client, query_yes_no"
   ]
  },
  {
   "cell_type": "markdown",
   "metadata": {},
   "source": [
    "## First create a batch client from the config file"
   ]
  },
  {
   "cell_type": "code",
   "execution_count": null,
   "metadata": {},
   "outputs": [],
   "source": [
    "client = create_batch_client('../tests/data/dmsbatch.config')   \n",
    "blob_client = create_blob_client('../tests/data/dmsbatch.config')"
   ]
  },
  {
   "cell_type": "markdown",
   "metadata": {},
   "source": [
    "## Application packages\n",
    "To copy large files and programs it is best to zip (or targz) them and upload them as application packages\n",
    "\n",
    "Application packages are setup separately in either azure management apis or from the web console or cli tool\n",
    "\n",
    "These are referenced here by their name and version\n",
    "e.g. DSM2, python and other programs\n",
    "\n",
    "IWFM downloaded from https://data.cnra.ca.gov/dataset/iwfm-integrated-water-flow-model/resource/6be7a705-5577-4fa0-b02e-d28cabc75c9a and uploaded as an application package\n"
   ]
  },
  {
   "cell_type": "code",
   "execution_count": null,
   "metadata": {},
   "outputs": [],
   "source": [
    "app_pkgs = [('unzip', '5.51-1', 'bin')]\n",
    "# windows backslash needs to be doubled as per python string rules for escaping\n",
    "iwfm_app_pkgs = [('IWFM','v2015.0.1129','IWFM 2015.0.1129\\\\iwfm-2015.0.1129_executables\\\\IWFM\\\\IWFM-2015.0.1129\\\\Budget'),\n",
    "                ('IWFM','v2015.0.1129','IWFM 2015.0.1129\\\\iwfm-2015.0.1129_executables\\\\IWFM\\\\IWFM-2015.0.1129\\\\PreProcessor'),\n",
    "                ('IWFM','v2015.0.1129','IWFM 2015.0.1129\\\\iwfm-2015.0.1129_executables\\\\IWFM\\\\IWFM-2015.0.1129\\\\Simulation'),\n",
    "                ('IWFM','v2015.0.1129','IWFM 2015.0.1129\\\\iwfm-2015.0.1129_executables\\\\IWFM\\\\IWFM-2015.0.1129\\\\ZBudget')\n",
    "                ]\n",
    "#ignorning iwfm_app_packages as the version is available in side the zip file itself!"
   ]
  },
  {
   "cell_type": "markdown",
   "metadata": {},
   "source": [
    "### Create or resize existing pool\n",
    "If the pool doesn't exist it will create it\n",
    "If the pool exists, it will resize to the second arg"
   ]
  },
  {
   "cell_type": "markdown",
   "metadata": {},
   "source": [
    "Various VM sizes and performances are documented here :https://docs.microsoft.com/en-us/azure/virtual-machines/windows/compute-benchmark-scores\n",
    "\n",
    "Pricing for these VMS can be found here : https://azure.microsoft.com/en-us/pricing/details/virtual-machines/windows/\n",
    "\n",
    "Here are some results for 1973 - 1993 run of C2VSIM FG. v 1.0\n",
    " * 'standard_d4as_v4' took 2 hrs, 23 mins but had to go with higher CPU count as per cpu it is 8GB of temp storage\n",
    " * 'standard_f4s_v2' took 2 hrs, 40 mins with 8GB / vcpu of temp storage so higher CPU count was chosen\n",
    " * 'standard_d2d_v4', 4.5 hrs"
   ]
  },
  {
   "cell_type": "code",
   "execution_count": null,
   "metadata": {},
   "outputs": [],
   "source": [
    "pool_name = 'C2VSimFGpool'"
   ]
  },
  {
   "cell_type": "code",
   "execution_count": null,
   "metadata": {},
   "outputs": [],
   "source": [
    "client.create_or_resize_pool(pool_name,\n",
    "                   1,\n",
    "                   app_packages=[(app,version) for app,version,_ in app_pkgs], \n",
    "                   vm_size=  'standard_d2s_v5', \n",
    "                   tasks_per_vm=2,\n",
    "                   os_image_data=('microsoftwindowsserver', 'windowsserver', '2019-datacenter-core')\n",
    "                  )"
   ]
  },
  {
   "cell_type": "markdown",
   "metadata": {},
   "source": [
    "### Create job on pool or fail if it exists\n",
    "Jobs are containers of tasks (things that run on nodes (machines) in the pool). If this exists, the next line will fail"
   ]
  },
  {
   "cell_type": "code",
   "execution_count": null,
   "metadata": {},
   "outputs": [],
   "source": [
    "job_name = 'c2vsimjob'"
   ]
  },
  {
   "cell_type": "code",
   "execution_count": null,
   "metadata": {},
   "outputs": [],
   "source": [
    "try:\n",
    "    client.create_job(job_name,pool_name)\n",
    "except:\n",
    "    print(f'Job {job_name} already exists. Continuing on ...')"
   ]
  },
  {
   "cell_type": "markdown",
   "metadata": {},
   "source": [
    "### Upload input files\n",
    "Zip the input files and add them to storage container (in this case the auto storage associated with the batch account)"
   ]
  },
  {
   "cell_type": "code",
   "execution_count": null,
   "metadata": {},
   "outputs": [],
   "source": [
    "import os, datetime\n",
    "userid = os.getlogin()\n",
    "tsnow = str(datetime.datetime.now().timestamp()).split('.')[0]\n",
    "task_name = f'c2vsim_{tsnow}_{userid}'\n",
    "print(task_name)"
   ]
  },
  {
   "cell_type": "markdown",
   "metadata": {},
   "source": [
    "C2VSimFG1.01 can be found https://data.cnra.ca.gov/dataset/c2vsimfg-version-1-01"
   ]
  },
  {
   "cell_type": "code",
   "execution_count": null,
   "metadata": {},
   "outputs": [],
   "source": [
    "import os"
   ]
  },
  {
   "cell_type": "code",
   "execution_count": null,
   "metadata": {},
   "outputs": [],
   "source": [
    "local_dir = f'../tests/data/c2vsimfg_v1_0_publicrelease/'\n",
    "basefname = os.path.basename(os.path.normpath(local_dir))\n",
    "\n",
    "zipfname=os.path.basename(os.path.normpath(local_dir))+'.zip'"
   ]
  },
  {
   "cell_type": "code",
   "execution_count": null,
   "metadata": {},
   "outputs": [],
   "source": [
    "task_name,zipfname"
   ]
  },
  {
   "cell_type": "code",
   "execution_count": null,
   "metadata": {},
   "outputs": [],
   "source": [
    "blob_client.zip_and_upload(job_name, f'{task_name}/{zipfname}', local_dir, max_concurrency=10)"
   ]
  },
  {
   "cell_type": "code",
   "execution_count": null,
   "metadata": {},
   "outputs": [],
   "source": [
    "input_file = client.create_input_file_spec(job_name,blob_prefix=f'{task_name}/{zipfname}',file_path='.')"
   ]
  },
  {
   "cell_type": "code",
   "execution_count": null,
   "metadata": {},
   "outputs": [],
   "source": [
    "output_dir_sas_url = blob_client.get_container_sas_url(job_name)  \n",
    "output_dir_sas_url"
   ]
  },
  {
   "cell_type": "code",
   "execution_count": null,
   "metadata": {},
   "outputs": [],
   "source": [
    "std_out_files = client.create_output_file_spec('../std*.txt', output_dir_sas_url, blob_path=f'{task_name}')\n",
    "output_dir = client.create_output_file_spec('**/Results/*',output_dir_sas_url, blob_path=f'{task_name}')"
   ]
  },
  {
   "cell_type": "markdown",
   "metadata": {},
   "source": [
    "### Create a task\n",
    "This uses the application package as pre -set up. If not, create one https://docs.microsoft.com/en-us/azure/batch/batch-application-packages"
   ]
  },
  {
   "cell_type": "code",
   "execution_count": null,
   "metadata": {},
   "outputs": [],
   "source": [
    "cmd_string = client.wrap_cmd_with_app_path([f'cd {task_name}',\n",
    "                                            f'unzip {zipfname}',\n",
    "                                            f'del {zipfname}',\n",
    "                                            'cd Simulation',\n",
    "                                           '..\\\\bin\\\\IWFM-2015.0.1045\\\\Simulation2015_x64.exe C2VSimFG.in'],\n",
    "                                           app_pkgs)\n",
    "print(cmd_string)\n",
    "c2vsim_task = client.create_task(task_name, cmd_string, resource_files=[\n",
    "                                input_file], output_files=[std_out_files, output_dir])"
   ]
  },
  {
   "cell_type": "code",
   "execution_count": null,
   "metadata": {},
   "outputs": [],
   "source": [
    "task_name"
   ]
  },
  {
   "cell_type": "markdown",
   "metadata": {},
   "source": [
    "### Next submit the task and wait "
   ]
  },
  {
   "cell_type": "code",
   "execution_count": null,
   "metadata": {},
   "outputs": [],
   "source": [
    "client.submit_tasks(job_name,[c2vsim_task])\n",
    "#client.wait_for_tasks_to_complete(job_name,datetime.timedelta(minutes=30))"
   ]
  },
  {
   "cell_type": "code",
   "execution_count": null,
   "metadata": {},
   "outputs": [],
   "source": [
    "client.wait_for_tasks_to_complete(job_name, datetime.timedelta(hours=3), polling_interval_secs=120)"
   ]
  },
  {
   "cell_type": "code",
   "execution_count": null,
   "metadata": {},
   "outputs": [],
   "source": [
    "client.resize_pool(pool_name,0)"
   ]
  },
  {
   "cell_type": "markdown",
   "metadata": {},
   "source": [
    "### Clean up Batch resources ( if the user so chooses)"
   ]
  },
  {
   "cell_type": "code",
   "execution_count": null,
   "metadata": {},
   "outputs": [],
   "source": [
    "#if query_yes_no('Delete job?') == 'yes':\n",
    "#    client.batch_client.job.delete(job_name)\n",
    "#if query_yes_no('Delete pool?') == 'yes':\n",
    "#    client.batch_client.pool.delete(pool_name)"
   ]
  },
  {
   "cell_type": "code",
   "execution_count": null,
   "metadata": {},
   "outputs": [],
   "source": []
  }
 ],
 "metadata": {
  "interpreter": {
   "hash": "9e539dc02fc56d55a22d79a0646788fa38cb6ebb3e85aa69306aae5c2f643a8f"
  },
  "kernelspec": {
   "display_name": "Python [conda env:dev_azure]",
   "language": "python",
   "name": "conda-env-dev_azure-py"
  },
  "language_info": {
   "codemirror_mode": {
    "name": "ipython",
    "version": 3
   },
   "file_extension": ".py",
   "mimetype": "text/x-python",
   "name": "python",
   "nbconvert_exporter": "python",
   "pygments_lexer": "ipython3",
   "version": "3.8.12"
  },
  "toc": {
   "base_numbering": 1,
   "nav_menu": {},
   "number_sections": true,
   "sideBar": true,
   "skip_h1_title": false,
   "title_cell": "Table of Contents",
   "title_sidebar": "Contents",
   "toc_cell": false,
   "toc_position": {},
   "toc_section_display": true,
   "toc_window_display": false
  }
 },
 "nbformat": 4,
 "nbformat_minor": 2
}
