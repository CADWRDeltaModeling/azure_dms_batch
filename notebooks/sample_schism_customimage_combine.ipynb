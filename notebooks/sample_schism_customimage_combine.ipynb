{
 "cells": [
  {
   "cell_type": "code",
   "execution_count": null,
   "metadata": {},
   "outputs": [],
   "source": [
    "%load_ext autoreload\n",
    "%autoreload 2"
   ]
  },
  {
   "cell_type": "markdown",
   "metadata": {},
   "source": [
    "# Create pool using custom image\n",
    "\n",
    "In this case we use the custom image from SCHISM. the image was created in eastus so a pre-requisite is to make sure the image is replicated to the same region as the batch account (dwrmodelingbatch) in this case which is in westus2\n",
    "\n",
    "Note: Unsuccessful in getting the image published from eastus visible in westus2 so moving the batch account to eastus. This also saves in terms of replication of the images which can take a while and incur costs.\n",
    "\n",
    "Note: Also unsuccessfull in creating via Batch Explorer. Recommend creating via Web Portal\n",
    "\n",
    "```\n",
    "Operating system\n",
    "Linux (centos 7.9.2009)\n",
    "\n",
    "Publisher\n",
    "DWR_MSO\n",
    "\n",
    "Offer\n",
    "SCHISM\n",
    "\n",
    "Plan\n",
    "5_8\n",
    "\n",
    "VM image definition\n",
    "SCHISM\n",
    "\n",
    "VM generation\n",
    "V2\n",
    "\n",
    "VM architecture\n",
    "x64\n",
    "```\n",
    "\n",
    "A batch account was created in eastus under the dwrbdoschism_rg group to be right next to the image and storage account regions and availability zones."
   ]
  },
  {
   "cell_type": "markdown",
   "metadata": {},
   "source": [
    "## Imports"
   ]
  },
  {
   "cell_type": "code",
   "execution_count": null,
   "metadata": {},
   "outputs": [],
   "source": [
    "from dmsbatch import create_batch_client, create_blob_client\n",
    "import datetime"
   ]
  },
  {
   "cell_type": "markdown",
   "metadata": {},
   "source": [
    "## First create a batch client from the config file"
   ]
  },
  {
   "cell_type": "code",
   "execution_count": null,
   "metadata": {},
   "outputs": [],
   "source": [
    "client = create_batch_client('../tests/data/schism_combine.config')\n",
    "blob_client = create_blob_client('../tests/data/schism_combine.config')"
   ]
  },
  {
   "cell_type": "markdown",
   "metadata": {},
   "source": [
    "## Find the image reference\n",
    "\n",
    "The code below gets the supported images. However I was unsuccessfull in using the image reference to create a pool "
   ]
  },
  {
   "cell_type": "code",
   "execution_count": null,
   "metadata": {},
   "outputs": [],
   "source": [
    "import azure.batch.models as batchmodels\n",
    "\n",
    "options = batchmodels.AccountListSupportedImagesOptions()\n",
    "\n",
    "#images = client.batch_client.account.list_supported_images(account_list_supported_images_options=options)\n",
    "images = client.batch_client.account.list_supported_images()\n",
    "\n",
    "skus_to_use = [(image.node_agent_sku_id, image.image_reference) for image in images]\n",
    "\n",
    "#for sku_id, _ in skus_to_use: print(sku_id)\n",
    "\n",
    "len(skus_to_use)\n",
    "\n",
    "#client.select_latest_verified_vm_image_with_node_agent_sku('DWR_MSO','SCHISM','5_8')\n",
    "\n",
    "# bay-delta-schism2-v58 (eli/simulations/hindcast_clinic2/outputs/schout_0000_1/**/*)\t\n",
    "\n",
    "image_resource_id = '/subscriptions/c15db114-26b5-454c-b8f4-8a5eb5f16796/resourceGroups/dwrbdo_dcp_rg/providers/Microsoft.Compute/galleries/dwrmso/images/SCHISM/versions/5.8.0'\n",
    "image_reference = batchmodels.ImageReference(publisher='DWR_MSO', offer='SCHISM', sku='5_8', version='5.8.0', virtual_machine_image_id=image_resource_id)\n",
    "vmconfig = batchmodels.VirtualMachineConfiguration(image_reference = image_reference, node_agent_sku_id='batch.node.centos')"
   ]
  },
  {
   "cell_type": "markdown",
   "metadata": {},
   "source": [
    "## Application packages\n",
    "To copy large files and programs it is best to zip (or targz) them and upload them as application packages\n",
    "\n",
    "Application packages are setup separately in either azure management apis or from the web console or cli tool\n",
    "\n",
    "These are referenced here by their name and version\n",
    "e.g. DSM2, python and other programs\n",
    "\n",
    "One extra field (last one) is the path within the zip file where the executables can be found. These are used later to setup the PATH varible"
   ]
  },
  {
   "cell_type": "markdown",
   "metadata": {},
   "source": [
    "### Show vms available\n",
    "\n",
    "https://docs.microsoft.com/en-us/azure/virtual-machines/fsv2-series"
   ]
  },
  {
   "cell_type": "code",
   "execution_count": null,
   "metadata": {
    "scrolled": true
   },
   "outputs": [],
   "source": [
    "#display(client.skus_available(filter=None))"
   ]
  },
  {
   "cell_type": "markdown",
   "metadata": {},
   "source": [
    "### Create or resize existing pool\n",
    "If the pool doesn't exist it will create it\n",
    "If the pool exists, it will resize to the second arg\n",
    "\n",
    "#### Specify VMs and number of cores and hosts\n",
    "You can use az to figure out what vms are available\n",
    "```\n",
    "az batch location list-skus --location westus --output tsv\n",
    "```\n",
    "\n",
    "\n",
    "#### Use a pool start task to install libraries"
   ]
  },
  {
   "cell_type": "code",
   "execution_count": null,
   "metadata": {},
   "outputs": [],
   "source": [
    "pool_name='schism58' # from custom image with schism v5.8\n",
    "num_hosts=1\n",
    "# Set to False as I have only been able to find the image via BatchExplorer and not programmatically.\n",
    "if False:\n",
    "    pool_start_cmds = ['printenv']\n",
    "    client.wrap_commands_in_shell(pool_start_cmds, ostype='linux')\n",
    "\n",
    "\n",
    "    vm_core_map={'standard_hc44rs':44,'standard_hb120rs_v2':120, 'Standard_F2s_v2': 2 , 'Standard_D8as_v4': 8}\n",
    "\n",
    "    vm_size= 'Standard_D8as_v4' #'standard_hc44rs' #'standard_hb120rs_v2',\n",
    "\n",
    "    #### Create pool with the OS image and enable internode communication\n",
    "\n",
    "    image_resource_id = '/subscriptions/c15db114-26b5-454c-b8f4-8a5eb5f16796/resourceGroups/dwrbdo_dcp_rg/providers/Microsoft.Compute/galleries/dwrmso/images/SCHISM/versions/5.8.0'\n",
    "    #publisher='DWR_MSO', offer='SCHISM', sku='5_8', version='5.8.0', # this doesn't work so using resource id directly\n",
    "    image_reference = batchmodels.ImageReference(virtual_machine_image_id=image_resource_id)\n",
    "    pool_created = client.create_pool(pool_name,\n",
    "                                    num_hosts,\n",
    "                                    vm_size=vm_size,\n",
    "                                    tasks_per_vm= vm_core_map[vm_size],\n",
    "                                    os_image_reference=('batch.node.centos 7',image_reference), # ? can we use our custom image\n",
    "                                    start_task_cmd=client.wrap_commands_in_shell(pool_start_cmds, ostype='linux'),\n",
    "                                    start_task_admin=True,\n",
    "                                    elevation_level='admin',\n",
    "                                    enable_inter_node_communication=False,\n",
    "                                    wait_for_success=True\n",
    "                      )\n",
    "else:\n",
    "    pool_created = False"
   ]
  },
  {
   "cell_type": "code",
   "execution_count": null,
   "metadata": {},
   "outputs": [],
   "source": [
    "#if not pool_created: client.resize_pool(pool_name,num_hosts)"
   ]
  },
  {
   "cell_type": "code",
   "execution_count": null,
   "metadata": {},
   "outputs": [],
   "source": [
    "#client.wait_for_pool_nodes(pool_name)"
   ]
  },
  {
   "cell_type": "markdown",
   "metadata": {},
   "source": [
    "### Get container url for where data exists with read/write permissions\n"
   ]
  },
  {
   "cell_type": "code",
   "execution_count": null,
   "metadata": {},
   "outputs": [],
   "source": [
    "container_name='bay-delta-schism2-v58'\n",
    "\n",
    "import dmsbatch\n",
    "permissions = dmsbatch.commands.ContainerSasPermissions(read=True, write=True, list=True)\n",
    "output_dir_sas_url = blob_client.get_container_sas_url(container_name, permissions)\n",
    "container_url, sas_token = tuple(str.split(output_dir_sas_url,'?'))\n",
    "\n",
    "container_url, sas_token"
   ]
  },
  {
   "cell_type": "markdown",
   "metadata": {},
   "source": [
    "### Create a startup task for job\n",
    "\n",
    "This is used to copy an information needed by all tasks and place them in a shared location"
   ]
  },
  {
   "cell_type": "code",
   "execution_count": null,
   "metadata": {},
   "outputs": [],
   "source": [
    "# for az batch monitoring. See https://github.com/Azure/batch-insights#centos\n",
    "# wget  -O - https://raw.githubusercontent.com/Azure/batch-insights/master/centos.sh | bash\n",
    "\n",
    "local_to_global_url = container_url+f'/eli/simulations/hindcast_clinic2/outputs/*' \n",
    "\n",
    "cmd_string = client.wrap_commands_in_shell([\n",
    "    f'azcopy cp \"{local_to_global_url}?{sas_token}\" \".\" --include-pattern \"local_to_global*\"', # --recursive doesn't work well with patterns\n",
    "    'cp -r local_to_global* ${AZ_BATCH_NODE_SHARED_DIR}',\n",
    "   ], ostype='linux')\n",
    "copy_local_global_task = client.create_task('copy_local_global_task',\n",
    "                                 cmd_string.replace('/bin/bash','/usr/bin/bash'))\n",
    "\n",
    "copy_local_global_task = client.create_task('local_to_global_copy_task',\n",
    "                                             cmd_string.replace('/bin/bash','/usr/bin/bash'))"
   ]
  },
  {
   "cell_type": "markdown",
   "metadata": {},
   "source": [
    "### Create job on pool or fail if it exists\n",
    "Jobs are containers of tasks (things that run on nodes (machines) in the pool). If this exists, the next line will fail"
   ]
  },
  {
   "cell_type": "code",
   "execution_count": null,
   "metadata": {},
   "outputs": [],
   "source": [
    "job_name='schismjobs'\n",
    "client.create_job(job_name,pool_name,prep_task=copy_local_global_task)"
   ]
  },
  {
   "cell_type": "markdown",
   "metadata": {},
   "source": [
    "### Create a task\n",
    "This uses the application package as pre -set up. If not, create one https://docs.microsoft.com/en-us/azure/batch/batch-application-packages"
   ]
  },
  {
   "cell_type": "markdown",
   "metadata": {},
   "source": [
    "Create task name (unique) and the command string"
   ]
  },
  {
   "cell_type": "code",
   "execution_count": null,
   "metadata": {},
   "outputs": [],
   "source": [
    "def create_task_for_day(day_index, ncombines=0):\n",
    "    '''\n",
    "    day_index is the day to combine\n",
    "    ncombines (if 0 it will have to scan the pattern so will be slower, otherwise give the number of processors to combine)\n",
    "    '''\n",
    "    # Input files\n",
    "    nc_input_url = f'{container_url}/eli/simulations/hindcast_clinic2/outputs/*'\n",
    "    nc_blob_path = 'schout*_${day_index}.nc' # the day_index is available in the bash shell\n",
    "    #Specify location to download script to run from\n",
    "    combine_script_spec = client.create_input_file_spec('batch','schism_combine_one.sh','.')\n",
    "    #Specify output files as spec references - Didn't work when clean up is needed after upload.\n",
    "    #output_file = client.create_output_file_spec(f'schout_{day_index}.nc',\n",
    "    #                                            output_dir_sas_url, \n",
    "    #                                            blob_path=f'eli/simulations/hindcast_clinic2/outputs.combined/schout_{day_index}.nc')\n",
    "    #\n",
    "    task_name = f'combine_output11_{day_index}'\n",
    "    cmd_string = client.wrap_commands_in_shell([\n",
    "        'cp -r ${AZ_BATCH_NODE_SHARED_DIR}/local_to_global_* .',\n",
    "        f'/bin/bash -f schism_combine_one.sh \"{nc_input_url}\" \"{nc_blob_path}\" \"{sas_token}\" {day_index} {ncombines}',\n",
    "        f'azcopy cp \"schout_{day_index}.nc\" \"{container_url}/eli/simulations/hindcast_clinic2/outputs.combined/schout_{day_index}.nc?{sas_token}\"',\n",
    "        'rm -rf *.nc local_to_global*'\n",
    "       ], ostype='linux')\n",
    "    #Create task with all the above information\n",
    "    schism_task = client.create_task(task_name,\n",
    "                                     cmd_string,#.replace('/bin/bash','/usr/bin/bash'),\n",
    "                                     resource_files=[combine_script_spec])#output_files=[output_file])\n",
    "    return schism_task"
   ]
  },
  {
   "cell_type": "markdown",
   "metadata": {},
   "source": [
    "### Next submit the task and wait "
   ]
  },
  {
   "cell_type": "code",
   "execution_count": null,
   "metadata": {
    "scrolled": false
   },
   "outputs": [],
   "source": [
    "# max is 3948 for hindcast2, and 172 processors to combine\n",
    "#client.submit_tasks(job_name,[create_task_for_day(day_index, 172) for day_index in range(1,3949)])\n",
    "client.submit_tasks(job_name,[create_task_for_day(day_index, 172) for day_index in range(1,2)])"
   ]
  },
  {
   "cell_type": "code",
   "execution_count": null,
   "metadata": {},
   "outputs": [],
   "source": [
    "#client.wait_for_tasks_to_complete(job_name,timeout=datetime.timedelta(seconds=120))"
   ]
  },
  {
   "cell_type": "markdown",
   "metadata": {},
   "source": [
    "## Finally resize the pool to 0 to save costs"
   ]
  },
  {
   "cell_type": "code",
   "execution_count": null,
   "metadata": {},
   "outputs": [],
   "source": [
    "#client.resize_pool(pool_name,0)"
   ]
  }
 ],
 "metadata": {
  "interpreter": {
   "hash": "9e539dc02fc56d55a22d79a0646788fa38cb6ebb3e85aa69306aae5c2f643a8f"
  },
  "kernelspec": {
   "display_name": "Python [conda env:azure]",
   "language": "python",
   "name": "conda-env-azure-py"
  },
  "language_info": {
   "codemirror_mode": {
    "name": "ipython",
    "version": 3
   },
   "file_extension": ".py",
   "mimetype": "text/x-python",
   "name": "python",
   "nbconvert_exporter": "python",
   "pygments_lexer": "ipython3",
   "version": "3.8.16"
  },
  "toc": {
   "base_numbering": 1,
   "nav_menu": {},
   "number_sections": true,
   "sideBar": true,
   "skip_h1_title": false,
   "title_cell": "Table of Contents",
   "title_sidebar": "Contents",
   "toc_cell": false,
   "toc_position": {},
   "toc_section_display": true,
   "toc_window_display": false
  }
 },
 "nbformat": 4,
 "nbformat_minor": 2
}
