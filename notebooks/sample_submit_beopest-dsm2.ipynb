{
 "cells": [
  {
   "cell_type": "markdown",
   "metadata": {},
   "source": [
    "# Beopest example for PEST-DSM2 Calibration\n",
    "This notebook sets up a beopest master on a node and uses the hostname for the beopest master to start beopest slaves.\n",
    "These are then used for submitting a sample .pst and model for an optimization run"
   ]
  },
  {
   "cell_type": "code",
   "execution_count": 25,
   "metadata": {
    "ExecuteTime": {
     "end_time": "2022-02-14T06:24:15.781839Z",
     "start_time": "2022-02-14T06:24:15.691237Z"
    }
   },
   "outputs": [
    {
     "name": "stdout",
     "output_type": "stream",
     "text": [
      "The autoreload extension is already loaded. To reload it, use:\n",
      "  %reload_ext autoreload\n"
     ]
    }
   ],
   "source": [
    "%load_ext autoreload\n",
    "%autoreload 2"
   ]
  },
  {
   "cell_type": "markdown",
   "metadata": {},
   "source": [
    "## Imports"
   ]
  },
  {
   "cell_type": "code",
   "execution_count": 119,
   "metadata": {
    "ExecuteTime": {
     "end_time": "2022-02-16T08:58:39.968195Z",
     "start_time": "2022-02-16T08:58:39.876598Z"
    }
   },
   "outputs": [],
   "source": [
    "import dmsbatch\n",
    "from dmsbatch import create_batch_client, create_blob_client\n",
    "import datetime"
   ]
  },
  {
   "cell_type": "markdown",
   "metadata": {},
   "source": [
    "## First create a batch client from the config file"
   ]
  },
  {
   "cell_type": "code",
   "execution_count": 27,
   "metadata": {
    "ExecuteTime": {
     "end_time": "2022-02-14T06:24:18.133134Z",
     "start_time": "2022-02-14T06:24:18.040538Z"
    }
   },
   "outputs": [],
   "source": [
    "client = create_batch_client('../tests/data/dmsbatch.config')\n",
    "blob_client = create_blob_client('../tests/data/dmsbatch.config')"
   ]
  },
  {
   "cell_type": "markdown",
   "metadata": {},
   "source": [
    "## Application packages\n",
    "To copy large files and programs it is best to zip (or targz) them and upload them as application packages\n",
    "\n",
    "Application packages are setup separately in either azure management apis or from the web console or cli tool\n",
    "\n",
    "These are referenced here by their name and version\n",
    "e.g. DSM2, python and other programs"
   ]
  },
  {
   "cell_type": "code",
   "execution_count": 86,
   "metadata": {
    "ExecuteTime": {
     "end_time": "2022-02-15T18:39:12.983885Z",
     "start_time": "2022-02-15T18:39:12.915187Z"
    }
   },
   "outputs": [],
   "source": [
    "app_pkgs = [('dsm2', '8.2.c5aacef7', 'DSM2-8.2.c5aacef7-win32/bin'),\n",
    "            ('vista', '1.0-v2019-05-28', 'vista/bin'),\n",
    "            ('python', 'testpest1', ''),\n",
    "            ('unzip', '5.51-1', 'bin'),\n",
    "            ('pest','17.3','')]"
   ]
  },
  {
   "cell_type": "markdown",
   "metadata": {},
   "source": [
    "### Show vms available\n",
    "\n",
    "https://docs.microsoft.com/en-us/azure/virtual-machines/fsv2-series"
   ]
  },
  {
   "cell_type": "code",
   "execution_count": 5,
   "metadata": {
    "ExecuteTime": {
     "end_time": "2022-02-13T05:07:19.298818Z",
     "start_time": "2022-02-13T05:07:19.234103Z"
    }
   },
   "outputs": [],
   "source": [
    "#display(client.skus_available())"
   ]
  },
  {
   "cell_type": "markdown",
   "metadata": {},
   "source": [
    "### Create or resize existing pool\n",
    "If the pool doesn't exist it will create it\n",
    "If the pool exists, it will resize to the second arg"
   ]
  },
  {
   "cell_type": "code",
   "execution_count": 42,
   "metadata": {
    "ExecuteTime": {
     "end_time": "2022-02-14T18:08:47.828626Z",
     "start_time": "2022-02-14T18:08:47.760925Z"
    }
   },
   "outputs": [],
   "source": [
    "pool_name='pestpool'"
   ]
  },
  {
   "cell_type": "code",
   "execution_count": 43,
   "metadata": {
    "ExecuteTime": {
     "end_time": "2022-02-14T18:08:49.277362Z",
     "start_time": "2022-02-14T18:08:49.199703Z"
    }
   },
   "outputs": [
    {
     "ename": "AttributeError",
     "evalue": "module 'azure.batch.models' has no attribute 'AccountListSupportedImagesOptions'",
     "output_type": "error",
     "traceback": [
      "\u001b[1;31m---------------------------------------------------------------------------\u001b[0m",
      "\u001b[1;31mAttributeError\u001b[0m                            Traceback (most recent call last)",
      "\u001b[1;32m~\\AppData\\Local\\Temp/ipykernel_25960/2430104724.py\u001b[0m in \u001b[0;36m<module>\u001b[1;34m\u001b[0m\n\u001b[0;32m      4\u001b[0m                    \u001b[0mvm_size\u001b[0m\u001b[1;33m=\u001b[0m\u001b[1;34m'standard_f2s_v2'\u001b[0m\u001b[1;33m,\u001b[0m\u001b[1;33m\u001b[0m\u001b[1;33m\u001b[0m\u001b[0m\n\u001b[0;32m      5\u001b[0m                    \u001b[0mtasks_per_vm\u001b[0m\u001b[1;33m=\u001b[0m\u001b[1;36m1\u001b[0m\u001b[1;33m,\u001b[0m \u001b[1;31m# keeping only 1 task per vm due to issue with HEC dss vue conflicting with catalogs!\u001b[0m\u001b[1;33m\u001b[0m\u001b[1;33m\u001b[0m\u001b[0m\n\u001b[1;32m----> 6\u001b[1;33m                    \u001b[0mos_image_data\u001b[0m\u001b[1;33m=\u001b[0m\u001b[1;33m(\u001b[0m\u001b[1;34m'microsoftwindowsserver'\u001b[0m\u001b[1;33m,\u001b[0m \u001b[1;34m'windowsserver'\u001b[0m\u001b[1;33m,\u001b[0m \u001b[1;34m'2019-datacenter-core'\u001b[0m\u001b[1;33m)\u001b[0m\u001b[1;33m\u001b[0m\u001b[1;33m\u001b[0m\u001b[0m\n\u001b[0m\u001b[0;32m      7\u001b[0m                   )\n",
      "\u001b[1;32mD:\\dev\\azure\\azure_dms_batch\\notebooks\\dmsbatch\\commands.py\u001b[0m in \u001b[0;36mcreate_pool\u001b[1;34m(self, pool_id, pool_size, vm_size, tasks_per_vm, os_image_data, app_packages, start_task_cmd, start_task_admin, resource_files, elevation_level, enable_inter_node_communication, wait_for_success)\u001b[0m\n\u001b[0;32m    152\u001b[0m         \u001b[1;31m# choosing windows machine here (just the core windows, it has no other apps on it including explorer)\u001b[0m\u001b[1;33m\u001b[0m\u001b[1;33m\u001b[0m\u001b[1;33m\u001b[0m\u001b[0m\n\u001b[0;32m    153\u001b[0m         sku_to_use, image_ref_to_use = self.select_latest_verified_vm_image_with_node_agent_sku(\n\u001b[1;32m--> 154\u001b[1;33m             *os_image_data)\n\u001b[0m\u001b[0;32m    155\u001b[0m         \u001b[1;31m# applications needed here\u001b[0m\u001b[1;33m\u001b[0m\u001b[1;33m\u001b[0m\u001b[1;33m\u001b[0m\u001b[0m\n\u001b[0;32m    156\u001b[0m         app_references = [batchmodels.ApplicationPackageReference(\n",
      "\u001b[1;32mD:\\dev\\azure\\azure_dms_batch\\notebooks\\dmsbatch\\commands.py\u001b[0m in \u001b[0;36mselect_latest_verified_vm_image_with_node_agent_sku\u001b[1;34m(self, publisher, offer, sku_starts_with)\u001b[0m\n\u001b[0;32m    798\u001b[0m         \"\"\"\n\u001b[0;32m    799\u001b[0m         \u001b[1;31m# get verified vm image list and node agent sku ids from service\u001b[0m\u001b[1;33m\u001b[0m\u001b[1;33m\u001b[0m\u001b[1;33m\u001b[0m\u001b[0m\n\u001b[1;32m--> 800\u001b[1;33m         options = batchmodels.AccountListSupportedImagesOptions(\n\u001b[0m\u001b[0;32m    801\u001b[0m             filter=\"verificationType eq 'verified'\")\n\u001b[0;32m    802\u001b[0m         images = self.batch_client.account.list_supported_images(\n",
      "\u001b[1;31mAttributeError\u001b[0m: module 'azure.batch.models' has no attribute 'AccountListSupportedImagesOptions'"
     ]
    }
   ],
   "source": [
    "# client.create_pool(pool_name,\n",
    "#                    1,\n",
    "#                    app_packages=[(app,version) for app,version,_ in app_pkgs], \n",
    "#                    vm_size='standard_f2s_v2', \n",
    "#                    tasks_per_vm=1, # keeping only 1 task per vm due to issue with HEC dss vue conflicting with catalogs!\n",
    "#                    os_image_data=('microsoftwindowsserver', 'windowsserver', '2019-datacenter-core')\n",
    "#                   )"
   ]
  },
  {
   "cell_type": "markdown",
   "metadata": {},
   "source": [
    "### Create job on pool or fail if it exists\n",
    "Jobs are containers of tasks (things that run on nodes (machines) in the pool). If this exists, the next line will fail which is ok as its already there"
   ]
  },
  {
   "cell_type": "code",
   "execution_count": 32,
   "metadata": {
    "ExecuteTime": {
     "end_time": "2022-02-14T06:42:15.829776Z",
     "start_time": "2022-02-14T06:42:15.238317Z"
    }
   },
   "outputs": [
    {
     "ename": "BatchErrorException",
     "evalue": "{'additional_properties': {}, 'lang': 'en-US', 'value': 'The specified job already exists.\\nRequestId:3688d543-c149-4f1f-8fe6-532e818be883\\nTime:2022-02-14T06:42:15.8852384Z'}",
     "output_type": "error",
     "traceback": [
      "\u001b[1;31m---------------------------------------------------------------------------\u001b[0m",
      "\u001b[1;31mBatchErrorException\u001b[0m                       Traceback (most recent call last)",
      "\u001b[1;32m~\\AppData\\Local\\Temp/ipykernel_25960/1690644214.py\u001b[0m in \u001b[0;36m<module>\u001b[1;34m\u001b[0m\n\u001b[0;32m      4\u001b[0m \u001b[1;31m# copy_timeseries_task = client.create_task_copy_file_to_shared_dir(job_name,'timeseries',file_path='.')\u001b[0m\u001b[1;33m\u001b[0m\u001b[1;33m\u001b[0m\u001b[1;33m\u001b[0m\u001b[0m\n\u001b[0;32m      5\u001b[0m \u001b[1;31m# copy_observations_task = client.create_task_copy_file_to_shared_dir(job_name,'observations',file_path='.')\u001b[0m\u001b[1;33m\u001b[0m\u001b[1;33m\u001b[0m\u001b[1;33m\u001b[0m\u001b[0m\n\u001b[1;32m----> 6\u001b[1;33m \u001b[0mclient\u001b[0m\u001b[1;33m.\u001b[0m\u001b[0mcreate_job\u001b[0m\u001b[1;33m(\u001b[0m\u001b[0mjob_name\u001b[0m\u001b[1;33m,\u001b[0m\u001b[0mpool_name\u001b[0m\u001b[1;33m,\u001b[0m\u001b[0mprep_task\u001b[0m\u001b[1;33m=\u001b[0m\u001b[0mcopy_common_task\u001b[0m\u001b[1;33m)\u001b[0m\u001b[1;33m\u001b[0m\u001b[1;33m\u001b[0m\u001b[0m\n\u001b[0m",
      "\u001b[1;32mD:\\dev\\azure\\azure_dms_batch\\notebooks\\dmsbatch\\commands.py\u001b[0m in \u001b[0;36mcreate_job\u001b[1;34m(self, job_id, pool_id, prep_task)\u001b[0m\n\u001b[0;32m    338\u001b[0m             pool_info=batch.models.PoolInformation(pool_id=pool_id))\n\u001b[0;32m    339\u001b[0m \u001b[1;33m\u001b[0m\u001b[0m\n\u001b[1;32m--> 340\u001b[1;33m         \u001b[0mself\u001b[0m\u001b[1;33m.\u001b[0m\u001b[0mbatch_client\u001b[0m\u001b[1;33m.\u001b[0m\u001b[0mjob\u001b[0m\u001b[1;33m.\u001b[0m\u001b[0madd\u001b[0m\u001b[1;33m(\u001b[0m\u001b[0mjob\u001b[0m\u001b[1;33m)\u001b[0m\u001b[1;33m\u001b[0m\u001b[1;33m\u001b[0m\u001b[0m\n\u001b[0m\u001b[0;32m    341\u001b[0m \u001b[1;33m\u001b[0m\u001b[0m\n\u001b[0;32m    342\u001b[0m     \u001b[1;32mdef\u001b[0m \u001b[0mdelete_job\u001b[0m\u001b[1;33m(\u001b[0m\u001b[0mself\u001b[0m\u001b[1;33m,\u001b[0m \u001b[0mjob_id\u001b[0m\u001b[1;33m)\u001b[0m\u001b[1;33m:\u001b[0m\u001b[1;33m\u001b[0m\u001b[1;33m\u001b[0m\u001b[0m\n",
      "\u001b[1;32mC:\\Anaconda3\\lib\\site-packages\\azure\\batch\\operations\\job_operations.py\u001b[0m in \u001b[0;36madd\u001b[1;34m(self, job, job_add_options, custom_headers, raw, **operation_config)\u001b[0m\n\u001b[0;32m    999\u001b[0m \u001b[1;33m\u001b[0m\u001b[0m\n\u001b[0;32m   1000\u001b[0m         \u001b[1;32mif\u001b[0m \u001b[0mresponse\u001b[0m\u001b[1;33m.\u001b[0m\u001b[0mstatus_code\u001b[0m \u001b[1;32mnot\u001b[0m \u001b[1;32min\u001b[0m \u001b[1;33m[\u001b[0m\u001b[1;36m201\u001b[0m\u001b[1;33m]\u001b[0m\u001b[1;33m:\u001b[0m\u001b[1;33m\u001b[0m\u001b[1;33m\u001b[0m\u001b[0m\n\u001b[1;32m-> 1001\u001b[1;33m             \u001b[1;32mraise\u001b[0m \u001b[0mmodels\u001b[0m\u001b[1;33m.\u001b[0m\u001b[0mBatchErrorException\u001b[0m\u001b[1;33m(\u001b[0m\u001b[0mself\u001b[0m\u001b[1;33m.\u001b[0m\u001b[0m_deserialize\u001b[0m\u001b[1;33m,\u001b[0m \u001b[0mresponse\u001b[0m\u001b[1;33m)\u001b[0m\u001b[1;33m\u001b[0m\u001b[1;33m\u001b[0m\u001b[0m\n\u001b[0m\u001b[0;32m   1002\u001b[0m \u001b[1;33m\u001b[0m\u001b[0m\n\u001b[0;32m   1003\u001b[0m         \u001b[1;32mif\u001b[0m \u001b[0mraw\u001b[0m\u001b[1;33m:\u001b[0m\u001b[1;33m\u001b[0m\u001b[1;33m\u001b[0m\u001b[0m\n",
      "\u001b[1;31mBatchErrorException\u001b[0m: {'additional_properties': {}, 'lang': 'en-US', 'value': 'The specified job already exists.\\nRequestId:3688d543-c149-4f1f-8fe6-532e818be883\\nTime:2022-02-14T06:42:15.8852384Z'}"
     ]
    }
   ],
   "source": [
    "job_name='pestdsm2'\n",
    "# copy_common_task = client.create_task_copy_file_to_shared_dir(job_name,'common.zip',file_path='.')\n",
    "# client.create_job(job_name,pool_name,prep_task=copy_common_task)"
   ]
  },
  {
   "cell_type": "markdown",
   "metadata": {},
   "source": [
    "## Upload the directory to blob storage\n",
    "Upload the directory to a blob container with same name as the job"
   ]
  },
  {
   "cell_type": "code",
   "execution_count": null,
   "metadata": {
    "ExecuteTime": {
     "end_time": "2022-01-18T05:41:01.069933Z",
     "start_time": "2022-01-18T05:41:00.675076Z"
    }
   },
   "outputs": [],
   "source": [
    "# local_dir = '../tests/data/PEST_DSM2'\n",
    "# input_file=blob_client.zip_and_upload(job_name,'',local_dir,30)\n",
    "# #\n",
    "# input_file = client.create_input_file_spec(job_name,blob_prefix=input_file.file_path,file_path='.')"
   ]
  },
  {
   "cell_type": "markdown",
   "metadata": {},
   "source": [
    "if job folder already uploaded onto blob"
   ]
  },
  {
   "cell_type": "code",
   "execution_count": 122,
   "metadata": {
    "ExecuteTime": {
     "end_time": "2022-02-16T18:01:43.724340Z",
     "start_time": "2022-02-16T18:01:43.595905Z"
    }
   },
   "outputs": [],
   "source": [
    "# input_file = client.create_input_file_spec(job_name,blob_prefix='PEST_DSM2.zip',file_path='.')\n",
    "input_file = client.create_input_file_spec(job_name,blob_prefix='PEST_DSM2_small.zip',file_path='.')"
   ]
  },
  {
   "cell_type": "markdown",
   "metadata": {},
   "source": [
    "### Create a task\n",
    "This uses the application package as pre -set up. If not, create one https://docs.microsoft.com/en-us/azure/batch/batch-application-packages"
   ]
  },
  {
   "cell_type": "markdown",
   "metadata": {},
   "source": [
    "PEST for small calib"
   ]
  },
  {
   "cell_type": "code",
   "execution_count": 123,
   "metadata": {
    "ExecuteTime": {
     "end_time": "2022-02-16T18:01:51.543945Z",
     "start_time": "2022-02-16T18:01:51.422481Z"
    }
   },
   "outputs": [
    {
     "name": "stdout",
     "output_type": "stream",
     "text": [
      "beopest_master_1645034511\n",
      "cmd /c set \"PATH=%AZ_BATCH_APP_PACKAGE_dsm2#8.2.c5aacef7%/DSM2-8.2.c5aacef7-win32/bin;%AZ_BATCH_APP_PACKAGE_vista#1.0-v2019-05-28%/vista/bin;%AZ_BATCH_APP_PACKAGE_python#testpest1%/;%AZ_BATCH_APP_PACKAGE_unzip#5.51-1%/bin;%AZ_BATCH_APP_PACKAGE_pest#17.3%/;%PATH%\" & echo hostname %COMPUTERNAME% & hostname & call %AZ_BATCH_APP_PACKAGE_python#testpest1%/scripts/activate.bat & unzip PEST_DSM2_small.zip & call runPESTsetup.bat & call runPEST.bat\n"
     ]
    }
   ],
   "source": [
    "tsnow = str(datetime.datetime.now().timestamp()).split('.')[0]\n",
    "task_name = f'beopest_master_{tsnow}'\n",
    "cmd_string = client.wrap_cmd_with_app_path('echo hostname %COMPUTERNAME% & hostname '\n",
    "                                          +'& call %AZ_BATCH_APP_PACKAGE_python#testpest1%/scripts/activate.bat '\n",
    "                                          +'& unzip PEST_DSM2_small.zip & call runPESTsetup.bat & call runPEST.bat',\n",
    "                                           app_pkgs)\n",
    "print(task_name)\n",
    "print(cmd_string)"
   ]
  },
  {
   "cell_type": "markdown",
   "metadata": {},
   "source": [
    "beoPEST for big calib"
   ]
  },
  {
   "cell_type": "code",
   "execution_count": 112,
   "metadata": {
    "ExecuteTime": {
     "end_time": "2022-02-16T04:41:55.814785Z",
     "start_time": "2022-02-16T04:41:55.745495Z"
    }
   },
   "outputs": [
    {
     "name": "stdout",
     "output_type": "stream",
     "text": [
      "beopest_master_1644986515\n",
      "cmd /c set \"PATH=%AZ_BATCH_APP_PACKAGE_dsm2#8.2.c5aacef7%/DSM2-8.2.c5aacef7-win32/bin;%AZ_BATCH_APP_PACKAGE_vista#1.0-v2019-05-28%/vista/bin;%AZ_BATCH_APP_PACKAGE_python#testpest1%/;%AZ_BATCH_APP_PACKAGE_unzip#5.51-1%/bin;%AZ_BATCH_APP_PACKAGE_pest#17.3%/;%PATH%\" & echo hostname %COMPUTERNAME% & hostname & call %AZ_BATCH_APP_PACKAGE_python#testpest1%/scripts/activate.bat & unzip PEST_DSM2.zip & call runPESTsetup.bat & call start_pest_master.bat\n"
     ]
    }
   ],
   "source": [
    "tsnow = str(datetime.datetime.now().timestamp()).split('.')[0]\n",
    "task_name = f'beopest_master_{tsnow}'\n",
    "cmd_string = client.wrap_cmd_with_app_path('echo hostname %COMPUTERNAME% & hostname '\n",
    "                                          +'& call %AZ_BATCH_APP_PACKAGE_python#testpest1%/scripts/activate.bat '\n",
    "                                          +'& unzip PEST_DSM2.zip & call runPESTsetup.bat & call start_pest_master.bat',\n",
    "                                           app_pkgs)\n",
    "print(task_name)\n",
    "print(cmd_string)"
   ]
  },
  {
   "cell_type": "code",
   "execution_count": 124,
   "metadata": {
    "ExecuteTime": {
     "end_time": "2022-02-16T18:02:05.407499Z",
     "start_time": "2022-02-16T18:02:05.300967Z"
    }
   },
   "outputs": [
    {
     "name": "stdout",
     "output_type": "stream",
     "text": [
      "https://dwrmodelingstore.blob.core.windows.net/pestdsm2?se=2022-02-16T20%3A02%3A05Z&sp=w&sv=2018-03-28&sr=c&sig=WCFS8nXGPWiIo6ddmWmtnzgbr9/qzAdzFYAexGlkJhU%3D\n"
     ]
    }
   ],
   "source": [
    "permissions = dmsbatch.commands.azureblob.BlobPermissions.WRITE\n",
    "output_dir_sas_url = blob_client.get_container_sas_url('pestdsm2', permissions)\n",
    "print(output_dir_sas_url)"
   ]
  },
  {
   "cell_type": "code",
   "execution_count": 125,
   "metadata": {
    "ExecuteTime": {
     "end_time": "2022-02-16T18:02:07.860358Z",
     "start_time": "2022-02-16T18:02:07.781704Z"
    }
   },
   "outputs": [],
   "source": [
    "std_out = client.create_output_file_spec(\n",
    "    '../std*.txt', output_dir_sas_url, blob_path='output')\n",
    "pest_out = client.create_output_file_spec(\n",
    "    '**/*.rec', output_dir_sas_url, blob_path='output')\n",
    "stat_out = client.create_output_file_spec(\n",
    "    '**/metrics.dat', output_dir_sas_url, blob_path='output')\n",
    "dsm2_out = client.create_output_file_spec(\n",
    "    '**/hist_v82_CALIB.dss', output_dir_sas_url, blob_path='output')"
   ]
  },
  {
   "cell_type": "code",
   "execution_count": 126,
   "metadata": {
    "ExecuteTime": {
     "end_time": "2022-02-16T18:02:09.226375Z",
     "start_time": "2022-02-16T18:02:09.150676Z"
    }
   },
   "outputs": [],
   "source": [
    "pest_task = client.create_task(task_name,cmd_string,\n",
    "                               resource_files=[input_file],\n",
    "                               output_files=[std_out, pest_out,stat_out,dsm2_out])"
   ]
  },
  {
   "cell_type": "markdown",
   "metadata": {},
   "source": [
    "### Next submit the task for master and wait for hostname to show up in the stdout.txt"
   ]
  },
  {
   "cell_type": "code",
   "execution_count": 127,
   "metadata": {
    "ExecuteTime": {
     "end_time": "2022-02-16T18:02:17.112393Z",
     "start_time": "2022-02-16T18:02:16.686270Z"
    }
   },
   "outputs": [],
   "source": [
    "client.submit_tasks(job_name,[pest_task])"
   ]
  },
  {
   "cell_type": "code",
   "execution_count": 105,
   "metadata": {
    "ExecuteTime": {
     "end_time": "2022-02-16T04:17:56.079452Z",
     "start_time": "2022-02-16T04:17:56.011440Z"
    }
   },
   "outputs": [],
   "source": [
    "def parse_hostname(client, job_id, task_id):\n",
    "    stdout=client.read_task_file_as_string(job_id,task_id,'stdout.txt')\n",
    "    import io\n",
    "    fh=io.StringIO(stdout)\n",
    "    line=fh.readline()\n",
    "    hostname = line.split('hostname')[1].strip()\n",
    "    return hostname"
   ]
  },
  {
   "cell_type": "code",
   "execution_count": 115,
   "metadata": {
    "ExecuteTime": {
     "end_time": "2022-02-16T04:42:36.691305Z",
     "start_time": "2022-02-16T04:42:36.210426Z"
    }
   },
   "outputs": [],
   "source": [
    "import time\n",
    "while True:\n",
    "    try:\n",
    "        hostname = parse_hostname(client, 'pestdsm2',pest_task.id)\n",
    "        break;\n",
    "    except:\n",
    "        time.sleep(10)\n",
    "        continue"
   ]
  },
  {
   "cell_type": "code",
   "execution_count": 116,
   "metadata": {
    "ExecuteTime": {
     "end_time": "2022-02-16T04:42:39.917053Z",
     "start_time": "2022-02-16T04:42:39.849380Z"
    }
   },
   "outputs": [
    {
     "name": "stdout",
     "output_type": "stream",
     "text": [
      "Beopest master is running on a20b29581000001\n"
     ]
    }
   ],
   "source": [
    "print('Beopest master is running on',hostname)"
   ]
  },
  {
   "cell_type": "markdown",
   "metadata": {},
   "source": [
    "## Next start the slaves (workers) with the hostname information"
   ]
  },
  {
   "cell_type": "code",
   "execution_count": 1,
   "metadata": {
    "ExecuteTime": {
     "end_time": "2022-02-17T05:50:05.432342Z",
     "start_time": "2022-02-17T05:50:05.355680Z"
    }
   },
   "outputs": [
    {
     "ename": "NameError",
     "evalue": "name 'tsnow' is not defined",
     "output_type": "error",
     "traceback": [
      "\u001b[1;31m---------------------------------------------------------------------------\u001b[0m",
      "\u001b[1;31mNameError\u001b[0m                                 Traceback (most recent call last)",
      "\u001b[1;32m~\\AppData\\Local\\Temp/ipykernel_42632/2290386469.py\u001b[0m in \u001b[0;36m<module>\u001b[1;34m\u001b[0m\n\u001b[1;32m----> 1\u001b[1;33m \u001b[0mtask_name\u001b[0m \u001b[1;33m=\u001b[0m \u001b[1;34mf'beopest_slave_{tsnow}'\u001b[0m\u001b[1;33m\u001b[0m\u001b[1;33m\u001b[0m\u001b[0m\n\u001b[0m\u001b[0;32m      2\u001b[0m cmd_string = client.wrap_cmd_with_app_path('echo hostname %COMPUTERNAME% & hostname '\n\u001b[0;32m      3\u001b[0m                                           \u001b[1;33m+\u001b[0m\u001b[1;34m'& call %AZ_BATCH_APP_PACKAGE_python#testpest1%/scripts/activate.bat '\u001b[0m\u001b[1;33m\u001b[0m\u001b[1;33m\u001b[0m\u001b[0m\n\u001b[0;32m      4\u001b[0m                                           \u001b[1;33m+\u001b[0m\u001b[1;34m'& unzip PEST_DSM2.zip & call runPESTsetup.bat & call start_pest_slave.bat'\u001b[0m\u001b[1;33m,\u001b[0m\u001b[1;33m\u001b[0m\u001b[1;33m\u001b[0m\u001b[0m\n\u001b[0;32m      5\u001b[0m                                            app_pkgs)\n",
      "\u001b[1;31mNameError\u001b[0m: name 'tsnow' is not defined"
     ]
    }
   ],
   "source": [
    "task_name = f'beopest_slave_{tsnow}'\n",
    "cmd_string = client.wrap_cmd_with_app_path('echo hostname %COMPUTERNAME% & hostname '\n",
    "                                          +'& call %AZ_BATCH_APP_PACKAGE_python#testpest1%/scripts/activate.bat '\n",
    "                                          +'& unzip PEST_DSM2.zip & call runPESTsetup.bat & call start_pest_slave.bat',\n",
    "                                           app_pkgs)\n",
    "print(task_name)\n",
    "print(cmd_string)"
   ]
  },
  {
   "cell_type": "code",
   "execution_count": 118,
   "metadata": {
    "ExecuteTime": {
     "end_time": "2022-02-16T04:44:15.545860Z",
     "start_time": "2022-02-16T04:44:15.368637Z"
    }
   },
   "outputs": [],
   "source": [
    "pest_slave_tasks = [client.create_task(task_name+'_%d'%i,\n",
    "                                       cmd_string,\n",
    "                                       resource_files=[input_file],\n",
    "                                       env_settings={'MASTER_HOSTNAME':hostname}) for i in range(2,7)]\n",
    "client.submit_tasks(job_name,pest_slave_tasks)"
   ]
  },
  {
   "cell_type": "markdown",
   "metadata": {},
   "source": [
    "## Finally resize the pool to 0 to save costs"
   ]
  },
  {
   "cell_type": "code",
   "execution_count": null,
   "metadata": {},
   "outputs": [],
   "source": [
    "# client.resize_pool(pool_name,0)"
   ]
  },
  {
   "cell_type": "code",
   "execution_count": null,
   "metadata": {},
   "outputs": [],
   "source": []
  }
 ],
 "metadata": {
  "interpreter": {
   "hash": "9e539dc02fc56d55a22d79a0646788fa38cb6ebb3e85aa69306aae5c2f643a8f"
  },
  "kernelspec": {
   "display_name": "Python 3 (ipykernel)",
   "language": "python",
   "name": "python3"
  },
  "language_info": {
   "codemirror_mode": {
    "name": "ipython",
    "version": 3
   },
   "file_extension": ".py",
   "mimetype": "text/x-python",
   "name": "python",
   "nbconvert_exporter": "python",
   "pygments_lexer": "ipython3",
   "version": "3.7.6"
  },
  "toc": {
   "base_numbering": 1,
   "nav_menu": {},
   "number_sections": true,
   "sideBar": true,
   "skip_h1_title": false,
   "title_cell": "Table of Contents",
   "title_sidebar": "Contents",
   "toc_cell": false,
   "toc_position": {},
   "toc_section_display": true,
   "toc_window_display": false
  },
  "varInspector": {
   "cols": {
    "lenName": 16,
    "lenType": 16,
    "lenVar": 40
   },
   "kernels_config": {
    "python": {
     "delete_cmd_postfix": "",
     "delete_cmd_prefix": "del ",
     "library": "var_list.py",
     "varRefreshCmd": "print(var_dic_list())"
    },
    "r": {
     "delete_cmd_postfix": ") ",
     "delete_cmd_prefix": "rm(",
     "library": "var_list.r",
     "varRefreshCmd": "cat(var_dic_list()) "
    }
   },
   "types_to_exclude": [
    "module",
    "function",
    "builtin_function_or_method",
    "instance",
    "_Feature"
   ],
   "window_display": false
  }
 },
 "nbformat": 4,
 "nbformat_minor": 2
}
