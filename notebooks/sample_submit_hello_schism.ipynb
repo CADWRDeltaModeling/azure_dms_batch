{
 "cells": [
  {
   "cell_type": "code",
   "execution_count": null,
   "metadata": {},
   "outputs": [],
   "source": [
    "%load_ext autoreload\n",
    "%autoreload 2"
   ]
  },
  {
   "cell_type": "markdown",
   "metadata": {},
   "source": [
    "## Imports"
   ]
  },
  {
   "cell_type": "code",
   "execution_count": null,
   "metadata": {},
   "outputs": [],
   "source": [
    "from dmsbatch import create_batch_client, create_blob_client\n",
    "import datetime"
   ]
  },
  {
   "cell_type": "markdown",
   "metadata": {},
   "source": [
    "## First create a batch client from the config file"
   ]
  },
  {
   "cell_type": "code",
   "execution_count": null,
   "metadata": {},
   "outputs": [],
   "source": [
    "client = create_batch_client('../tests/data/dmsbatch.config')\n",
    "blob_client = create_blob_client('../tests/data/dmsbatch.config')"
   ]
  },
  {
   "cell_type": "markdown",
   "metadata": {},
   "source": [
    "## Application packages\n",
    "To copy large files and programs it is best to zip (or targz) them and upload them as application packages\n",
    "\n",
    "Application packages are setup separately in either azure management apis or from the web console or cli tool\n",
    "\n",
    "These are referenced here by their name and version\n",
    "e.g. DSM2, python and other programs\n",
    "\n",
    "One extra field (last one) is the path within the zip file where the executables can be found. These are used later to setup the PATH varible"
   ]
  },
  {
   "cell_type": "code",
   "execution_count": null,
   "metadata": {},
   "outputs": [],
   "source": [
    "app_pkgs = [('schism', '580', 'opt/schism/5.8.0')]"
   ]
  },
  {
   "cell_type": "code",
   "execution_count": null,
   "metadata": {},
   "outputs": [],
   "source": [
    "list(set([(app,version) for app,version,_ in app_pkgs]))"
   ]
  },
  {
   "cell_type": "markdown",
   "metadata": {},
   "source": [
    "### Show vms available\n",
    "\n",
    "https://docs.microsoft.com/en-us/azure/virtual-machines/fsv2-series"
   ]
  },
  {
   "cell_type": "code",
   "execution_count": null,
   "metadata": {},
   "outputs": [],
   "source": [
    "#display(client.skus_available())"
   ]
  },
  {
   "cell_type": "markdown",
   "metadata": {},
   "source": [
    "### Create or resize existing pool\n",
    "If the pool doesn't exist it will create it\n",
    "If the pool exists, it will resize to the second arg"
   ]
  },
  {
   "cell_type": "markdown",
   "metadata": {},
   "source": [
    "#### Use a pool start task to install libraries"
   ]
  },
  {
   "cell_type": "code",
   "execution_count": null,
   "metadata": {},
   "outputs": [],
   "source": [
    "pool_start_cmds = ['printenv',\n",
    "                  'rpm --import https://yum.repos.intel.com/2020/setup/RPM-GPG-KEY-intel-psxe-runtime-2020',\n",
    "                  'rpm -Uhv https://yum.repos.intel.com/2020/setup/intel-psxe-runtime-2020-reposetup-1-0.noarch.rpm',\n",
    "                  'yum install -y intel-ifort*-2020.2-14']\n",
    "client.wrap_commands_in_shell('linux',pool_start_cmds)"
   ]
  },
  {
   "cell_type": "markdown",
   "metadata": {},
   "source": [
    "#### Specify VMs and number of cores and hosts"
   ]
  },
  {
   "cell_type": "code",
   "execution_count": null,
   "metadata": {},
   "outputs": [],
   "source": [
    "vm_core_map={'standard_hc44rs':44,'standard_hb120rs_v2':120}"
   ]
  },
  {
   "cell_type": "code",
   "execution_count": null,
   "metadata": {},
   "outputs": [],
   "source": [
    "vm_size='standard_hc44rs' #'standard_hb120rs_v2',\n",
    "num_cores=2*(vm_core_map[vm_size]-1) # change with the vm_size\n",
    "num_hosts=2 # change with num_hosts"
   ]
  },
  {
   "cell_type": "markdown",
   "metadata": {},
   "source": [
    "#### Create pool with the OS image and enable internode communication"
   ]
  },
  {
   "cell_type": "code",
   "execution_count": null,
   "metadata": {},
   "outputs": [],
   "source": [
    "pool_name='schismpool'"
   ]
  },
  {
   "cell_type": "code",
   "execution_count": null,
   "metadata": {},
   "outputs": [],
   "source": [
    "pool_created = client.create_pool(pool_name,\n",
    "                                num_hosts,\n",
    "                                app_packages=list(set([(app,version) for app,version,_ in app_pkgs])), \n",
    "                                vm_size= vm_size,\n",
    "                                tasks_per_vm=1,\n",
    "                                os_image_data=('openlogic', 'centos-hpc', '7.7'), # ? can we use our custom image\n",
    "                                start_task_cmd=client.wrap_commands_in_shell('linux',pool_start_cmds),\n",
    "                                start_task_admin=True,\n",
    "                                elevation_level='admin',\n",
    "                                enable_inter_node_communication=True,\n",
    "                                wait_for_success=True\n",
    "                  )"
   ]
  },
  {
   "cell_type": "code",
   "execution_count": null,
   "metadata": {},
   "outputs": [],
   "source": [
    "if not pool_created: client.resize_pool(pool_name,num_hosts)"
   ]
  },
  {
   "cell_type": "code",
   "execution_count": null,
   "metadata": {},
   "outputs": [],
   "source": [
    "client.wait_for_pool_nodes(pool_name)"
   ]
  },
  {
   "cell_type": "markdown",
   "metadata": {},
   "source": [
    "### Create job on pool or fail if it exists\n",
    "Jobs are containers of tasks (things that run on nodes (machines) in the pool). If this exists, the next line will fail"
   ]
  },
  {
   "cell_type": "code",
   "execution_count": null,
   "metadata": {},
   "outputs": [],
   "source": [
    "job_name='schismjobs'\n",
    "client.create_job(job_name,pool_name)"
   ]
  },
  {
   "cell_type": "markdown",
   "metadata": {},
   "source": [
    "### Create a task\n",
    "This uses the application package as pre -set up. If not, create one https://docs.microsoft.com/en-us/azure/batch/batch-application-packages"
   ]
  },
  {
   "cell_type": "markdown",
   "metadata": {},
   "source": [
    "Create task name (unique) and the command string"
   ]
  },
  {
   "cell_type": "code",
   "execution_count": null,
   "metadata": {},
   "outputs": [],
   "source": [
    "tsnow = str(datetime.datetime.now().timestamp()).split('.')[0]\n",
    "task_name = f'helloschism_version_{tsnow}'\n",
    "cmd_string = client.wrap_cmd_with_app_path(\n",
    "    \"\"\"source /opt/intel/psxe_runtime/linux/bin/psxevars.sh intel64;\n",
    "source /opt/intel/psxe_runtime/linux/mpi/intel64/bin/mpivars.sh;\n",
    "export LD_LIBRARY_PATH=/opt/intel/psxe_runtime_2020.2.14/linux/compiler/lib/intel64_lin:$LD_LIBRARY_PATH;\n",
    "export HDF5_DIR=${AZ_BATCH_APP_PACKAGE_schism_580}/opt/hdf5/1.12.0; \n",
    "export NETCDF_C_DIR=${AZ_BATCH_APP_PACKAGE_schism_580}/opt/netcdf-c/4.7.4;\n",
    "export NETCDF_FORTRAN_DIR=${AZ_BATCH_APP_PACKAGE_schism_580}/opt/netcdf-fortran/4.5.3;\n",
    "export SZIP_DIR=${AZ_BATCH_APP_PACKAGE_schism_580}/opt/szip/2.1.1;\n",
    "export PATH=${SZIP_DIR}/bin:${HDF5_DIR}/bin:${NETCDF_C_DIR}/bin:${NETCDF_FORTRAN_DIR}/bin:${AZ_BATCH_APP_PACKAGE_schism_580}/opt/schism/5.8.0/bin:$PATH;\n",
    "export LD_LIBRARY_PATH=${SZIP_DIR}/lib:${HDF5_DIR}/lib:${NETCDF_C_DIR}/lib:${NETCDF_FORTRAN_DIR}/lib:$LD_LIBRARY_PATH;\n",
    "echo $AZ_BATCH_HOST_LIST;\n",
    "echo $PATH;\n",
    "echo $LD_LIBRARY_PATH;\n",
    "export FI_PROVIDER=mlx;\n",
    "export I_MPI_FABRICS=shm:ofi;\n",
    "export I_MPI_DEBUG=5;\n",
    "export I_MPI_PIN_DOMAIN=numa;\n",
    "cd ${AZ_BATCH_TASK_ID};\n",
    "tar xvzf hello_schism-master.tar.gz;\n",
    "cd hello_schism;\n",
    "mkdir outputs;\n",
    "\"\"\"+\n",
    "f\"\"\"export NUM_CORES={num_cores};\n",
    "export NUM_HOSTS={num_hosts};\n",
    "\"\"\"\n",
    "+\n",
    "\"\"\"mpirun -n $NUM_CORES -ppn $NUM_HOSTS -hosts $AZ_BATCH_HOST_LIST ${AZ_BATCH_APP_PACKAGE_schism_580}/opt/schism/5.8.0/pschism_PREC_EVAP_GOTM_TVD-VL;\n",
    "\"\"\",app_pkgs,ostype='linux')\n",
    "print(task_name)\n",
    "print(cmd_string)\n",
    "#mpirun -n $NUM_CORES -ppn $NUM_HOSTS -hosts $AZ_BATCH_HOST_LIST ${AZ_BATCH_APP_PACKAGE_schism_580}/opt/schism/5.8.0/pschism_PREC_EVAP_GOTM_TVD-VL;\n",
    "#mpirun -n $NUM_CORES -ppn $NUM_HOSTS -hosts $AZ_BATCH_HOST_LIST IMB-MPI1 pingpong;"
   ]
  },
  {
   "cell_type": "markdown",
   "metadata": {},
   "source": [
    "Upload input file and get the spec reference"
   ]
  },
  {
   "cell_type": "code",
   "execution_count": null,
   "metadata": {},
   "outputs": [],
   "source": [
    "import os\n",
    "local_file = '../tests/data/helloschism/hello_schism-master.tar.gz'\n",
    "fname=os.path.basename(local_file)\n",
    "input_file=blob_client.upload_file_to_container(job_name,f'{task_name}/{fname}',local_file,30)\n",
    "input_file = client.create_input_file_spec(job_name,blob_prefix=f'{task_name}/{fname}',file_path='.')"
   ]
  },
  {
   "cell_type": "markdown",
   "metadata": {},
   "source": [
    "Specify output files as spec references"
   ]
  },
  {
   "cell_type": "code",
   "execution_count": null,
   "metadata": {},
   "outputs": [],
   "source": [
    "import dmsbatch\n",
    "permissions = dmsbatch.commands.azureblob.BlobPermissions.WRITE\n",
    "# |helpers.azureblob.BlobPermissions.ADD|helpers.azureblob.BlobPermissions.CREATE\n",
    "output_dir_sas_url = blob_client.get_container_sas_url(job_name, permissions)\n",
    "print(output_dir_sas_url)\n",
    "\n",
    "std_out_files = client.create_output_file_spec('../std*.txt', output_dir_sas_url, blob_path=f'{task_name}')\n",
    "output_dir = client.create_output_file_spec('**/outputs/*',output_dir_sas_url, blob_path=f'{task_name}')"
   ]
  },
  {
   "cell_type": "markdown",
   "metadata": {},
   "source": [
    "Create task with all the above information"
   ]
  },
  {
   "cell_type": "code",
   "execution_count": null,
   "metadata": {},
   "outputs": [],
   "source": [
    "schism_task = client.create_task(task_name,cmd_string,\n",
    "                                 resource_files=[input_file],\n",
    "                                 output_files=[std_out_files, output_dir],\n",
    "                                 num_instances=num_hosts, coordination_cmdline='echo $AZ_BATCH_HOST_LIST')"
   ]
  },
  {
   "cell_type": "markdown",
   "metadata": {},
   "source": [
    "### Next submit the task and wait "
   ]
  },
  {
   "cell_type": "code",
   "execution_count": null,
   "metadata": {},
   "outputs": [],
   "source": [
    "client.submit_tasks(job_name,[schism_task])"
   ]
  },
  {
   "cell_type": "code",
   "execution_count": null,
   "metadata": {},
   "outputs": [],
   "source": [
    "client.wait_for_tasks_to_complete(job_name,timeout=datetime.timedelta(seconds=120))"
   ]
  },
  {
   "cell_type": "markdown",
   "metadata": {},
   "source": [
    "## Finally resize the pool to 0 to save costs"
   ]
  },
  {
   "cell_type": "code",
   "execution_count": null,
   "metadata": {},
   "outputs": [],
   "source": [
    "client.resize_pool(pool_name,0)"
   ]
  },
  {
   "cell_type": "code",
   "execution_count": null,
   "metadata": {},
   "outputs": [],
   "source": []
  }
 ],
 "metadata": {
  "interpreter": {
   "hash": "9e539dc02fc56d55a22d79a0646788fa38cb6ebb3e85aa69306aae5c2f643a8f"
  },
  "kernelspec": {
   "display_name": "Python [conda env:azure]",
   "language": "python",
   "name": "conda-env-azure-py"
  },
  "language_info": {
   "codemirror_mode": {
    "name": "ipython",
    "version": 3
   },
   "file_extension": ".py",
   "mimetype": "text/x-python",
   "name": "python",
   "nbconvert_exporter": "python",
   "pygments_lexer": "ipython3",
   "version": "3.8.12"
  },
  "toc": {
   "base_numbering": 1,
   "nav_menu": {},
   "number_sections": true,
   "sideBar": true,
   "skip_h1_title": false,
   "title_cell": "Table of Contents",
   "title_sidebar": "Contents",
   "toc_cell": false,
   "toc_position": {},
   "toc_section_display": true,
   "toc_window_display": false
  }
 },
 "nbformat": 4,
 "nbformat_minor": 2
}
